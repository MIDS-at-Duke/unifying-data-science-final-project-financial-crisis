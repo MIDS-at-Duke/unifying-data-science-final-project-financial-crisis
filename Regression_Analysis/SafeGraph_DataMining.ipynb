{
 "cells": [
  {
   "cell_type": "markdown",
   "metadata": {},
   "source": [
    "# Social Distance: Load, clean and store Dataframe"
   ]
  },
  {
   "cell_type": "code",
   "execution_count": null,
   "metadata": {},
   "outputs": [],
   "source": [
    "#Import packages for data wrangling and plotting\n",
    "import pandas as pd\n",
    "import numpy as np\n",
    "import matplotlib.pyplot as plt\n",
    "import matplotlib.dates as mdates\n",
    "import datetime\n",
    "import os\n",
    "\n",
    "#Ignore warnings from code output\n",
    "import warnings\n",
    "warnings.filterwarnings(action = 'ignore')"
   ]
  },
  {
   "cell_type": "code",
   "execution_count": 6,
   "metadata": {
    "scrolled": true
   },
   "outputs": [
    {
     "name": "stdout",
     "output_type": "stream",
     "text": [
      "<class 'pandas.core.frame.DataFrame'>\n",
      "RangeIndex: 219247 entries, 0 to 219246\n",
      "Data columns (total 13 columns):\n",
      " #   Column                                      Non-Null Count   Dtype  \n",
      "---  ------                                      --------------   -----  \n",
      " 0   origin_census_block_group                   219247 non-null  int64  \n",
      " 1   date_range_start                            219247 non-null  object \n",
      " 2   date_range_end                              219247 non-null  object \n",
      " 3   device_count                                219247 non-null  int64  \n",
      " 4   distance_traveled_from_home                 219237 non-null  float64\n",
      " 5   bucketed_distance_traveled                  219237 non-null  object \n",
      " 6   median_dwell_at_bucketed_distance_traveled  219237 non-null  object \n",
      " 7   completely_home_device_count                219247 non-null  int64  \n",
      " 8   median_home_dwell_time                      219247 non-null  int64  \n",
      " 9   bucketed_home_dwell_time                    219247 non-null  object \n",
      " 10  at_home_by_each_hour                        219247 non-null  object \n",
      " 11  part_time_work_behavior_devices             219247 non-null  int64  \n",
      " 12  full_time_work_behavior_devices             219247 non-null  int64  \n",
      "dtypes: float64(1), int64(6), object(6)\n",
      "memory usage: 21.7+ MB\n"
     ]
    },
    {
     "data": {
      "text/plain": [
       "['origin_census_block_group',\n",
       " 'date_range_start',\n",
       " 'date_range_end',\n",
       " 'device_count',\n",
       " 'distance_traveled_from_home',\n",
       " 'bucketed_distance_traveled',\n",
       " 'median_dwell_at_bucketed_distance_traveled',\n",
       " 'completely_home_device_count',\n",
       " 'median_home_dwell_time',\n",
       " 'bucketed_home_dwell_time',\n",
       " 'at_home_by_each_hour',\n",
       " 'part_time_work_behavior_devices',\n",
       " 'full_time_work_behavior_devices']"
      ]
     },
     "execution_count": 6,
     "metadata": {},
     "output_type": "execute_result"
    }
   ],
   "source": [
    "#Eplore one file with observations from 2020-01-01\n",
    "file_path_safegraph = 'C:\\\\Users\\\\josem\\\\mylocaldirectory\\\\v1\\\\2020\\\\01\\\\01\\\\2020-01-01-social-distancing.csv.gz'\n",
    "df1 = pd.read_csv(file_path_safegraph)\n",
    "df1.info()"
   ]
  },
  {
   "cell_type": "code",
   "execution_count": 12,
   "metadata": {
    "scrolled": true
   },
   "outputs": [],
   "source": [
    "# Set my local directory for all Safegraph files\n",
    "my_local_directory = 'C:\\\\Users\\\\josem\\\\mylocaldirectory\\\\v1\\\\2020'"
   ]
  },
  {
   "cell_type": "code",
   "execution_count": 13,
   "metadata": {},
   "outputs": [],
   "source": [
    "# Iterate over each file and load relevant info in a dataframe\n",
    "import os\n",
    "df_safegraph = pd.DataFrame(columns = ['origin_census_block_group','date_range_start','date_range_end',\n",
    "                                    'device_count', 'distance_traveled_from_home','completely_home_device_count',\n",
    "                                    'median_home_dwell_time'])\n",
    "\n",
    "#Use os.walk function to get the stored files in the subdirectories for months and days\n",
    "for root, dirs, files in os.walk(my_local_directory):\n",
    "   \n",
    "    #print(files)\n",
    "    for file in files:\n",
    "        \n",
    "        if file.endswith(\".csv.gz\"):\n",
    "            #print((os.path.join(root, file)))\n",
    "            file_path_safegraph = os.path.join(root, file)\n",
    "            df = pd.read_csv(file_path_safegraph, usecols = ['origin_census_block_group',\n",
    "                                                                       'date_range_start',\n",
    "                                                                       'date_range_end',\n",
    "                                                                       'device_count',\n",
    "                                                                       'distance_traveled_from_home',\n",
    "                                                                       'completely_home_device_count',\n",
    "                                                                       'median_home_dwell_time'])\n",
    "            #On Safegraph data set, identify FIPS per state and county\n",
    "            df['origin_census_block_group'] = df['origin_census_block_group'].astype(str)\n",
    "            #add zeros in census block groups shorter than 12 digits\n",
    "            df['origin_census_block_group'] = [i.zfill(12) for i in df['origin_census_block_group']]\n",
    "            #Create a column with a subset of the first 5 digits of origin_census_block_group\n",
    "            df['FIP_state_county'] = [i[:5] for i in df['origin_census_block_group']]\n",
    "            \n",
    "            #Concatenate results in a dataframe \n",
    "            df_safegraph = pd.concat([df_safegraph, df])               "
   ]
  },
  {
   "cell_type": "code",
   "execution_count": 14,
   "metadata": {},
   "outputs": [],
   "source": [
    "#Create a column with a subset of the first 5 digits of origin_census_block_group\n",
    "df_safegraph['FIP_state_county'] = [i[:5] for i in df_safegraph['origin_census_block_group']]"
   ]
  },
  {
   "cell_type": "code",
   "execution_count": 15,
   "metadata": {},
   "outputs": [],
   "source": [
    "#Download data set with FIPS data information\n",
    "file_path_FIPS = 'C:\\\\Duke University\\\\2nd Term\\\\Practical DS 690-2\\\\Final Project\\\\FIPS_State_County.csv'\n",
    "FIPS_df = pd.read_csv(file_path_FIPS)\n",
    "\n",
    "#On FIPS data set to prepare the merge of data\n",
    "FIPS_df['FIPS'] = FIPS_df['FIPS'].astype(str)\n",
    "#add zeros in FIPS shorter than 5 digits\n",
    "FIPS_df['FIPS'] = [i.zfill(5) for i in FIPS_df['FIPS']]"
   ]
  },
  {
   "cell_type": "code",
   "execution_count": 16,
   "metadata": {},
   "outputs": [],
   "source": [
    "#Merge dataframes and incorporate state and county information\n",
    "safegraph = pd.merge(df_safegraph, FIPS_df, left_on = 'FIP_state_county', right_on = 'FIPS')"
   ]
  },
  {
   "cell_type": "code",
   "execution_count": 2,
   "metadata": {},
   "outputs": [
    {
     "data": {
      "text/plain": [
       "'C:\\\\Users\\\\josem\\\\Python\\\\IDS 690 - 2'"
      ]
     },
     "execution_count": 2,
     "metadata": {},
     "output_type": "execute_result"
    }
   ],
   "source": [
    "import os\n",
    "os.getcwd()\n",
    "safegraph.to_csv(r'C:\\\\Duke University\\\\2nd Term\\\\Practical DS 690-2\\\\Final Project\\\\Full_Safegraph.csv', index = False)"
   ]
  },
  {
   "cell_type": "markdown",
   "metadata": {},
   "source": [
    "## Plot safegraph at State and County Levels"
   ]
  },
  {
   "cell_type": "code",
   "execution_count": 24,
   "metadata": {},
   "outputs": [],
   "source": [
    "#Download data set\n",
    "safegraph = pd.read_csv('C:\\\\Duke University\\\\2nd Term\\\\Practical DS 690-2\\\\Final Project\\\\Full_Safegraph.csv')\n",
    "\n",
    "#Strip last 6 characters in date_range_start and date_range_end\n",
    "safegraph['date_range_start'] = [i[:-6] for i in safegraph['date_range_start']]\n",
    "safegraph['date_range_end'] = [i[:-6] for i in safegraph['date_range_end']]"
   ]
  },
  {
   "cell_type": "code",
   "execution_count": 25,
   "metadata": {},
   "outputs": [
    {
     "data": {
      "text/html": [
       "<div>\n",
       "<style scoped>\n",
       "    .dataframe tbody tr th:only-of-type {\n",
       "        vertical-align: middle;\n",
       "    }\n",
       "\n",
       "    .dataframe tbody tr th {\n",
       "        vertical-align: top;\n",
       "    }\n",
       "\n",
       "    .dataframe thead th {\n",
       "        text-align: right;\n",
       "    }\n",
       "</style>\n",
       "<table border=\"1\" class=\"dataframe\">\n",
       "  <thead>\n",
       "    <tr style=\"text-align: right;\">\n",
       "      <th></th>\n",
       "      <th>origin_census_block_group</th>\n",
       "      <th>device_count</th>\n",
       "      <th>distance_traveled_from_home</th>\n",
       "      <th>completely_home_device_count</th>\n",
       "      <th>median_home_dwell_time</th>\n",
       "      <th>FIP_state_county</th>\n",
       "      <th>FIPS</th>\n",
       "    </tr>\n",
       "  </thead>\n",
       "  <tbody>\n",
       "    <tr>\n",
       "      <th>count</th>\n",
       "      <td>2.434212e+07</td>\n",
       "      <td>2.434212e+07</td>\n",
       "      <td>2.434137e+07</td>\n",
       "      <td>2.434212e+07</td>\n",
       "      <td>2.434212e+07</td>\n",
       "      <td>2.434212e+07</td>\n",
       "      <td>2.434212e+07</td>\n",
       "    </tr>\n",
       "    <tr>\n",
       "      <th>mean</th>\n",
       "      <td>2.867323e+11</td>\n",
       "      <td>8.208309e+01</td>\n",
       "      <td>1.014692e+04</td>\n",
       "      <td>2.275484e+01</td>\n",
       "      <td>6.905449e+02</td>\n",
       "      <td>2.867297e+04</td>\n",
       "      <td>2.867297e+04</td>\n",
       "    </tr>\n",
       "    <tr>\n",
       "      <th>std</th>\n",
       "      <td>1.637511e+11</td>\n",
       "      <td>9.712216e+01</td>\n",
       "      <td>6.959522e+04</td>\n",
       "      <td>2.830702e+01</td>\n",
       "      <td>2.942913e+02</td>\n",
       "      <td>1.637510e+04</td>\n",
       "      <td>1.637510e+04</td>\n",
       "    </tr>\n",
       "    <tr>\n",
       "      <th>min</th>\n",
       "      <td>1.001020e+10</td>\n",
       "      <td>5.000000e+00</td>\n",
       "      <td>3.800000e+01</td>\n",
       "      <td>1.000000e+00</td>\n",
       "      <td>0.000000e+00</td>\n",
       "      <td>1.001000e+03</td>\n",
       "      <td>1.001000e+03</td>\n",
       "    </tr>\n",
       "    <tr>\n",
       "      <th>25%</th>\n",
       "      <td>1.312101e+11</td>\n",
       "      <td>4.000000e+01</td>\n",
       "      <td>4.017000e+03</td>\n",
       "      <td>1.000000e+01</td>\n",
       "      <td>5.750000e+02</td>\n",
       "      <td>1.312100e+04</td>\n",
       "      <td>1.312100e+04</td>\n",
       "    </tr>\n",
       "    <tr>\n",
       "      <th>50%</th>\n",
       "      <td>2.900795e+11</td>\n",
       "      <td>6.200000e+01</td>\n",
       "      <td>6.143000e+03</td>\n",
       "      <td>1.700000e+01</td>\n",
       "      <td>7.380000e+02</td>\n",
       "      <td>2.900700e+04</td>\n",
       "      <td>2.900700e+04</td>\n",
       "    </tr>\n",
       "    <tr>\n",
       "      <th>75%</th>\n",
       "      <td>4.200348e+11</td>\n",
       "      <td>9.800000e+01</td>\n",
       "      <td>9.497000e+03</td>\n",
       "      <td>2.800000e+01</td>\n",
       "      <td>8.560000e+02</td>\n",
       "      <td>4.200300e+04</td>\n",
       "      <td>4.200300e+04</td>\n",
       "    </tr>\n",
       "    <tr>\n",
       "      <th>max</th>\n",
       "      <td>7.803099e+11</td>\n",
       "      <td>6.235500e+04</td>\n",
       "      <td>1.298593e+07</td>\n",
       "      <td>1.251000e+04</td>\n",
       "      <td>2.113000e+03</td>\n",
       "      <td>7.803000e+04</td>\n",
       "      <td>7.803000e+04</td>\n",
       "    </tr>\n",
       "  </tbody>\n",
       "</table>\n",
       "</div>"
      ],
      "text/plain": [
       "       origin_census_block_group  device_count  distance_traveled_from_home  \\\n",
       "count               2.434212e+07  2.434212e+07                 2.434137e+07   \n",
       "mean                2.867323e+11  8.208309e+01                 1.014692e+04   \n",
       "std                 1.637511e+11  9.712216e+01                 6.959522e+04   \n",
       "min                 1.001020e+10  5.000000e+00                 3.800000e+01   \n",
       "25%                 1.312101e+11  4.000000e+01                 4.017000e+03   \n",
       "50%                 2.900795e+11  6.200000e+01                 6.143000e+03   \n",
       "75%                 4.200348e+11  9.800000e+01                 9.497000e+03   \n",
       "max                 7.803099e+11  6.235500e+04                 1.298593e+07   \n",
       "\n",
       "       completely_home_device_count  median_home_dwell_time  FIP_state_county  \\\n",
       "count                  2.434212e+07            2.434212e+07      2.434212e+07   \n",
       "mean                   2.275484e+01            6.905449e+02      2.867297e+04   \n",
       "std                    2.830702e+01            2.942913e+02      1.637510e+04   \n",
       "min                    1.000000e+00            0.000000e+00      1.001000e+03   \n",
       "25%                    1.000000e+01            5.750000e+02      1.312100e+04   \n",
       "50%                    1.700000e+01            7.380000e+02      2.900700e+04   \n",
       "75%                    2.800000e+01            8.560000e+02      4.200300e+04   \n",
       "max                    1.251000e+04            2.113000e+03      7.803000e+04   \n",
       "\n",
       "               FIPS  \n",
       "count  2.434212e+07  \n",
       "mean   2.867297e+04  \n",
       "std    1.637510e+04  \n",
       "min    1.001000e+03  \n",
       "25%    1.312100e+04  \n",
       "50%    2.900700e+04  \n",
       "75%    4.200300e+04  \n",
       "max    7.803000e+04  "
      ]
     },
     "execution_count": 25,
     "metadata": {},
     "output_type": "execute_result"
    }
   ],
   "source": [
    "safegraph.describe()"
   ]
  },
  {
   "cell_type": "code",
   "execution_count": 26,
   "metadata": {
    "scrolled": true
   },
   "outputs": [
    {
     "data": {
      "text/plain": [
       "['origin_census_block_group',\n",
       " 'date_range_start',\n",
       " 'date_range_end',\n",
       " 'device_count',\n",
       " 'distance_traveled_from_home',\n",
       " 'completely_home_device_count',\n",
       " 'median_home_dwell_time',\n",
       " 'FIP_state_county',\n",
       " 'FIPS',\n",
       " 'Name',\n",
       " 'State']"
      ]
     },
     "execution_count": 26,
     "metadata": {},
     "output_type": "execute_result"
    }
   ],
   "source": [
    "safegraph.columns.to_list()"
   ]
  },
  {
   "cell_type": "code",
   "execution_count": 49,
   "metadata": {},
   "outputs": [],
   "source": [
    "#Select a subset of columns for analysis\n",
    "safe_subset = safegraph[['date_range_start',\n",
    " 'date_range_end',\n",
    " 'device_count',\n",
    " 'distance_traveled_from_home',\n",
    " 'completely_home_device_count',\n",
    " 'median_home_dwell_time',\n",
    " 'Name',\n",
    " 'State']]"
   ]
  },
  {
   "cell_type": "code",
   "execution_count": 28,
   "metadata": {},
   "outputs": [],
   "source": [
    "#Convert columns date_range_start and date_range_end to datetime format\n",
    "safe_subset.rename(columns = {'Name':'County'}, inplace=True)\n",
    "\n",
    "#Convert into datetime format\n",
    "safe_subset['date_start'] = pd.to_datetime(safe_subset['date_range_start'])\n",
    "safe_subset['date_end'] = pd.to_datetime(safe_subset['date_range_end'])"
   ]
  },
  {
   "cell_type": "code",
   "execution_count": 29,
   "metadata": {},
   "outputs": [],
   "source": [
    "#Convert columns device_count, completely_home_device_count and median_home_dwell_time into integer data type\n",
    "safe_subset['device_count'] = safe_subset['device_count'].astype(int)\n",
    "safe_subset['completely_home_device_count'] = safe_subset['completely_home_device_count'].astype(int)\n",
    "safe_subset['median_home_dwell_time'] = safe_subset['median_home_dwell_time'].astype(int)"
   ]
  },
  {
   "cell_type": "code",
   "execution_count": 30,
   "metadata": {
    "scrolled": true
   },
   "outputs": [],
   "source": [
    "#Plot individula metric 'median_home_dwell_time'\n",
    "safe_subset = safe_subset[['County',\n",
    " 'State',\n",
    " 'date_start',\n",
    " 'median_home_dwell_time'\n",
    " ]]"
   ]
  },
  {
   "cell_type": "code",
   "execution_count": 31,
   "metadata": {},
   "outputs": [],
   "source": [
    "#Set unit of observation as combination of County and State\n",
    "safe_plot = safe_subset.groupby(['date_start', 'County', 'State'], as_index=False).sum()"
   ]
  },
  {
   "cell_type": "code",
   "execution_count": 32,
   "metadata": {},
   "outputs": [],
   "source": [
    "#Set date_start as index\n",
    "safe_plot.set_index('date_start', inplace=True)"
   ]
  },
  {
   "cell_type": "code",
   "execution_count": 37,
   "metadata": {},
   "outputs": [],
   "source": [
    "#Select county and state for plotting\n",
    "state = ['CA']\n",
    "counties = ['Alameda', 'Sacramento', 'San Bernardino',\n",
    "       'San Diego', \n",
    "       'San Francisco',\n",
    "       'Santa Clara', 'San Mateo']\n",
    "test1 = safe_plot.loc[(safe_plot.State.isin(state)) & (safe_plot.County.isin(counties))]\n",
    "test1['median_home_dwell_time'] = test1['median_home_dwell_time']/60"
   ]
  },
  {
   "cell_type": "code",
   "execution_count": 48,
   "metadata": {},
   "outputs": [
    {
     "data": {
      "image/png": "[encoded data removed]",
      "text/plain": [
       "<Figure size 720x288 with 1 Axes>"
      ]
     },
     "metadata": {
      "needs_background": "light"
     },
     "output_type": "display_data"
    }
   ],
   "source": [
    "from matplotlib import dates as mpl_dates\n",
    "#Test another plotting style\n",
    "#plt.style.use('seaborn')\n",
    "\n",
    "#Scatter plot\n",
    "#plt.plot_date(x= test1.index, y=test1['median_home_dwell_time'])\n",
    "\n",
    "#Trend Line plot for one county\n",
    "#plt.plot(test1['median_home_dwell_time'])\n",
    "\n",
    "#Trend Lines plot for multiple counties per state\n",
    "test1.pivot(columns = 'County', values = 'median_home_dwell_time').plot()\n",
    "#df.pivot(index=\"Date\", columns=\"Group\", values=\"Value\").plot()\n",
    "\n",
    "plt.gcf().autofmt_xdate()\n",
    "date_format = mpl_dates.DateFormatter('%b, %d')\n",
    "plt.gca().xaxis.set_major_formatter(date_format)\n",
    "plt.gca().legend(loc='center left', bbox_to_anchor=(1, 0.5), ncol =1)\n",
    "plt.tight_layout()\n",
    "#plt.title(\"Median home dwell time in some California's Counties\")\n",
    "plt.xlabel('Date')\n",
    "plt.ylabel('Hrs', rotation = 0, labelpad = 20)\n",
    "plt.gcf().set_size_inches(10,4)\n",
    "plt.show()"
   ]
  },
  {
   "cell_type": "code",
   "execution_count": 140,
   "metadata": {
    "scrolled": true
   },
   "outputs": [
    {
     "data": {
      "text/plain": [
       "array(['Alameda', 'Fresno', 'Lake', 'Los Angeles', 'Nevada', 'Orange',\n",
       "       'Riverside', 'Sacramento', 'San Benito', 'San Bernardino',\n",
       "       'San Diego', 'San Joaquin', 'Sonoma', 'Ventura', 'Yolo', 'Glenn',\n",
       "       'Kern', 'Kings', 'Mendocino', 'Placer', 'San Francisco',\n",
       "       'San Luis Obispo', 'Santa Barbara', 'Santa Clara', 'Solano',\n",
       "       'Tulare', 'Monterey', 'San Mateo', 'Shasta', 'Imperial', 'Inyo',\n",
       "       'Contra Costa', 'El Dorado', 'Siskiyou', 'Sutter', 'Merced',\n",
       "       'Amador', 'Napa', 'Stanislaus', 'Madera', 'Marin', 'Humboldt',\n",
       "       'Santa Cruz', 'Modoc', 'Mariposa', 'Butte', 'Lassen', 'Tehama',\n",
       "       'Del Norte', 'Plumas', 'Yuba', 'Calaveras', 'Tuolumne', 'Colusa',\n",
       "       'Mono', 'Sierra', 'Trinity', 'Alpine'], dtype=object)"
      ]
     },
     "execution_count": 140,
     "metadata": {},
     "output_type": "execute_result"
    }
   ],
   "source": [
    "safegraph.loc[safegraph.State == 'CA']['Name'].unique()"
   ]
  }
 ],
 "metadata": {
  "kernelspec": {
   "display_name": "Python 3",
   "language": "python",
   "name": "python3"
  },
  "language_info": {
   "codemirror_mode": {
    "name": "ipython",
    "version": 3
   },
   "file_extension": ".py",
   "mimetype": "text/x-python",
   "name": "python",
   "nbconvert_exporter": "python",
   "pygments_lexer": "ipython3",
   "version": "3.7.4"
  }
 },
 "nbformat": 4,
 "nbformat_minor": 2
}
