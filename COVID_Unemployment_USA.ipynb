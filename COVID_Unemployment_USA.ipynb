{
  "nbformat": 4,
  "nbformat_minor": 0,
  "metadata": {
    "colab": {
      "name": "COVID_Unemployment_USA.ipynb",
      "provenance": [],
      "authorship_tag": "ABX9TyNbWYS4hi4VZQVePj2hBReh",
      "include_colab_link": true
    },
    "kernelspec": {
      "name": "python3",
      "display_name": "Python 3"
    }
  },
  "cells": [
    {
      "cell_type": "markdown",
      "metadata": {
        "id": "view-in-github",
        "colab_type": "text"
      },
      "source": [
        "<a href=\"https://colab.research.google.com/github/abbarcenasj/unifying-data-science-final-project-financial-crisis/blob/master/COVID_Unemployment_USA.ipynb\" target=\"_parent\"><img src=\"https://colab.research.google.com/assets/colab-badge.svg\" alt=\"Open In Colab\"/></a>"
      ]
    },
    {
      "cell_type": "code",
      "metadata": {
        "id": "dsZmObmyeJD6",
        "colab_type": "code",
        "colab": {}
      },
      "source": [
        "import pandas as pd\n",
        "import numpy as np"
      ],
      "execution_count": 0,
      "outputs": []
    },
    {
      "cell_type": "code",
      "metadata": {
        "id": "rNXNxIjpduPX",
        "colab_type": "code",
        "colab": {
          "base_uri": "https://localhost:8080/",
          "height": 204
        },
        "outputId": "5db145fc-815a-4e1e-ad4e-9de21c6fa155"
      },
      "source": [
        "url = 'https://raw.githubusercontent.com/MIDS-at-Duke/unifying-data-science-final-project-pandemics-unemployment/master/data/unemployment_2016_2020.csv'\n",
        "unemployment = pd.read_csv(url)\n",
        "unemployment.head()"
      ],
      "execution_count": 10,
      "outputs": [
        {
          "output_type": "execute_result",
          "data": {
            "text/html": [
              "<div>\n",
              "<style scoped>\n",
              "    .dataframe tbody tr th:only-of-type {\n",
              "        vertical-align: middle;\n",
              "    }\n",
              "\n",
              "    .dataframe tbody tr th {\n",
              "        vertical-align: top;\n",
              "    }\n",
              "\n",
              "    .dataframe thead th {\n",
              "        text-align: right;\n",
              "    }\n",
              "</style>\n",
              "<table border=\"1\" class=\"dataframe\">\n",
              "  <thead>\n",
              "    <tr style=\"text-align: right;\">\n",
              "      <th></th>\n",
              "      <th>state</th>\n",
              "      <th>filed_week_ended</th>\n",
              "      <th>initial_claims</th>\n",
              "      <th>reflecting_week_ended</th>\n",
              "      <th>continued_claims</th>\n",
              "      <th>covered_employment</th>\n",
              "      <th>insured_unemployment_rate</th>\n",
              "    </tr>\n",
              "  </thead>\n",
              "  <tbody>\n",
              "    <tr>\n",
              "      <th>0</th>\n",
              "      <td>Alabama</td>\n",
              "      <td>1/2/16</td>\n",
              "      <td>6,574</td>\n",
              "      <td>12/26/15</td>\n",
              "      <td>26,579</td>\n",
              "      <td>1,816,714</td>\n",
              "      <td>1.46</td>\n",
              "    </tr>\n",
              "    <tr>\n",
              "      <th>1</th>\n",
              "      <td>Alabama</td>\n",
              "      <td>1/9/16</td>\n",
              "      <td>8,151</td>\n",
              "      <td>1/2/16</td>\n",
              "      <td>31,509</td>\n",
              "      <td>1,823,207</td>\n",
              "      <td>1.73</td>\n",
              "    </tr>\n",
              "    <tr>\n",
              "      <th>2</th>\n",
              "      <td>Alabama</td>\n",
              "      <td>1/16/16</td>\n",
              "      <td>4,737</td>\n",
              "      <td>1/9/16</td>\n",
              "      <td>25,695</td>\n",
              "      <td>1,823,207</td>\n",
              "      <td>1.41</td>\n",
              "    </tr>\n",
              "    <tr>\n",
              "      <th>3</th>\n",
              "      <td>Alabama</td>\n",
              "      <td>1/23/16</td>\n",
              "      <td>3,226</td>\n",
              "      <td>1/16/16</td>\n",
              "      <td>23,845</td>\n",
              "      <td>1,823,207</td>\n",
              "      <td>1.31</td>\n",
              "    </tr>\n",
              "    <tr>\n",
              "      <th>4</th>\n",
              "      <td>Alabama</td>\n",
              "      <td>1/30/16</td>\n",
              "      <td>3,392</td>\n",
              "      <td>1/23/16</td>\n",
              "      <td>24,259</td>\n",
              "      <td>1,823,207</td>\n",
              "      <td>1.33</td>\n",
              "    </tr>\n",
              "  </tbody>\n",
              "</table>\n",
              "</div>"
            ],
            "text/plain": [
              "     state filed_week_ended  ... covered_employment insured_unemployment_rate\n",
              "0  Alabama           1/2/16  ...          1,816,714                      1.46\n",
              "1  Alabama           1/9/16  ...          1,823,207                      1.73\n",
              "2  Alabama          1/16/16  ...          1,823,207                      1.41\n",
              "3  Alabama          1/23/16  ...          1,823,207                      1.31\n",
              "4  Alabama          1/30/16  ...          1,823,207                      1.33\n",
              "\n",
              "[5 rows x 7 columns]"
            ]
          },
          "metadata": {
            "tags": []
          },
          "execution_count": 10
        }
      ]
    },
    {
      "cell_type": "code",
      "metadata": {
        "id": "qAPK-b1wf-Xx",
        "colab_type": "code",
        "colab": {
          "base_uri": "https://localhost:8080/",
          "height": 204
        },
        "outputId": "0ede7efe-93c8-4bfa-d1cc-d7131dd84a26"
      },
      "source": [
        "url = 'https://raw.githubusercontent.com/MIDS-at-Duke/unifying-data-science-final-project-pandemics-unemployment/master/data/effective_dates.csv'\n",
        "order_date = pd.read_csv(url)\n",
        "order_date.head()"
      ],
      "execution_count": 8,
      "outputs": [
        {
          "output_type": "execute_result",
          "data": {
            "text/html": [
              "<div>\n",
              "<style scoped>\n",
              "    .dataframe tbody tr th:only-of-type {\n",
              "        vertical-align: middle;\n",
              "    }\n",
              "\n",
              "    .dataframe tbody tr th {\n",
              "        vertical-align: top;\n",
              "    }\n",
              "\n",
              "    .dataframe thead th {\n",
              "        text-align: right;\n",
              "    }\n",
              "</style>\n",
              "<table border=\"1\" class=\"dataframe\">\n",
              "  <thead>\n",
              "    <tr style=\"text-align: right;\">\n",
              "      <th></th>\n",
              "      <th>state</th>\n",
              "      <th>effective_date</th>\n",
              "      <th>order_in_place</th>\n",
              "    </tr>\n",
              "  </thead>\n",
              "  <tbody>\n",
              "    <tr>\n",
              "      <th>0</th>\n",
              "      <td>Alabama</td>\n",
              "      <td>2020-04-04</td>\n",
              "      <td>1</td>\n",
              "    </tr>\n",
              "    <tr>\n",
              "      <th>1</th>\n",
              "      <td>Alaska</td>\n",
              "      <td>2020-03-28</td>\n",
              "      <td>1</td>\n",
              "    </tr>\n",
              "    <tr>\n",
              "      <th>2</th>\n",
              "      <td>Arizona</td>\n",
              "      <td>2020-03-31</td>\n",
              "      <td>1</td>\n",
              "    </tr>\n",
              "    <tr>\n",
              "      <th>3</th>\n",
              "      <td>Arkansas</td>\n",
              "      <td>NaN</td>\n",
              "      <td>0</td>\n",
              "    </tr>\n",
              "    <tr>\n",
              "      <th>4</th>\n",
              "      <td>California</td>\n",
              "      <td>2020-03-19</td>\n",
              "      <td>1</td>\n",
              "    </tr>\n",
              "  </tbody>\n",
              "</table>\n",
              "</div>"
            ],
            "text/plain": [
              "        state effective_date  order_in_place\n",
              "0     Alabama     2020-04-04               1\n",
              "1      Alaska     2020-03-28               1\n",
              "2     Arizona     2020-03-31               1\n",
              "3    Arkansas            NaN               0\n",
              "4  California     2020-03-19               1"
            ]
          },
          "metadata": {
            "tags": []
          },
          "execution_count": 8
        }
      ]
    },
    {
      "cell_type": "code",
      "metadata": {
        "id": "WGHNbZPyghCW",
        "colab_type": "code",
        "colab": {}
      },
      "source": [
        ""
      ],
      "execution_count": 0,
      "outputs": []
    }
  ]
}