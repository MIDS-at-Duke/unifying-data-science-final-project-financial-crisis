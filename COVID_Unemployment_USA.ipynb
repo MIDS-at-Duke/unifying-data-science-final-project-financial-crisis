{
  "nbformat": 4,
  "nbformat_minor": 0,
  "metadata": {
    "colab": {
      "name": "COVID_Unemployment_USA.ipynb",
      "provenance": [],
      "include_colab_link": true
    },
    "kernelspec": {
      "name": "python3",
      "display_name": "Python 3"
    }
  },
  "cells": [
    {
      "cell_type": "markdown",
      "metadata": {
        "id": "view-in-github",
        "colab_type": "text"
      },
      "source": [
        "<a href=\"https://colab.research.google.com/github/abbarcenasj/unifying-data-science-final-project-pandemics-unemployment/blob/master/COVID_Unemployment_USA.ipynb\" target=\"_parent\"><img src=\"https://colab.research.google.com/assets/colab-badge.svg\" alt=\"Open In Colab\"/></a>"
      ]
    },
    {
      "cell_type": "code",
      "metadata": {
        "id": "dsZmObmyeJD6",
        "colab_type": "code",
        "colab": {}
      },
      "source": [
        "import pandas as pd\n",
        "import numpy as np"
      ],
      "execution_count": 0,
      "outputs": []
    },
    {
      "cell_type": "code",
      "metadata": {
        "id": "rNXNxIjpduPX",
        "colab_type": "code",
        "outputId": "5db145fc-815a-4e1e-ad4e-9de21c6fa155",
        "colab": {
          "base_uri": "https://localhost:8080/",
          "height": 204
        }
      },
      "source": [
        "url = 'https://raw.githubusercontent.com/MIDS-at-Duke/unifying-data-science-final-project-pandemics-unemployment/master/data/unemployment_2016_2020.csv'\n",
        "unemployment = pd.read_csv(url)\n",
        "unemployment.head()"
      ],
      "execution_count": 0,
      "outputs": [
        {
          "output_type": "execute_result",
          "data": {
            "text/html": [
              "<div>\n",
              "<style scoped>\n",
              "    .dataframe tbody tr th:only-of-type {\n",
              "        vertical-align: middle;\n",
              "    }\n",
              "\n",
              "    .dataframe tbody tr th {\n",
              "        vertical-align: top;\n",
              "    }\n",
              "\n",
              "    .dataframe thead th {\n",
              "        text-align: right;\n",
              "    }\n",
              "</style>\n",
              "<table border=\"1\" class=\"dataframe\">\n",
              "  <thead>\n",
              "    <tr style=\"text-align: right;\">\n",
              "      <th></th>\n",
              "      <th>state</th>\n",
              "      <th>filed_week_ended</th>\n",
              "      <th>initial_claims</th>\n",
              "      <th>reflecting_week_ended</th>\n",
              "      <th>continued_claims</th>\n",
              "      <th>covered_employment</th>\n",
              "      <th>insured_unemployment_rate</th>\n",
              "    </tr>\n",
              "  </thead>\n",
              "  <tbody>\n",
              "    <tr>\n",
              "      <th>0</th>\n",
              "      <td>Alabama</td>\n",
              "      <td>1/2/16</td>\n",
              "      <td>6,574</td>\n",
              "      <td>12/26/15</td>\n",
              "      <td>26,579</td>\n",
              "      <td>1,816,714</td>\n",
              "      <td>1.46</td>\n",
              "    </tr>\n",
              "    <tr>\n",
              "      <th>1</th>\n",
              "      <td>Alabama</td>\n",
              "      <td>1/9/16</td>\n",
              "      <td>8,151</td>\n",
              "      <td>1/2/16</td>\n",
              "      <td>31,509</td>\n",
              "      <td>1,823,207</td>\n",
              "      <td>1.73</td>\n",
              "    </tr>\n",
              "    <tr>\n",
              "      <th>2</th>\n",
              "      <td>Alabama</td>\n",
              "      <td>1/16/16</td>\n",
              "      <td>4,737</td>\n",
              "      <td>1/9/16</td>\n",
              "      <td>25,695</td>\n",
              "      <td>1,823,207</td>\n",
              "      <td>1.41</td>\n",
              "    </tr>\n",
              "    <tr>\n",
              "      <th>3</th>\n",
              "      <td>Alabama</td>\n",
              "      <td>1/23/16</td>\n",
              "      <td>3,226</td>\n",
              "      <td>1/16/16</td>\n",
              "      <td>23,845</td>\n",
              "      <td>1,823,207</td>\n",
              "      <td>1.31</td>\n",
              "    </tr>\n",
              "    <tr>\n",
              "      <th>4</th>\n",
              "      <td>Alabama</td>\n",
              "      <td>1/30/16</td>\n",
              "      <td>3,392</td>\n",
              "      <td>1/23/16</td>\n",
              "      <td>24,259</td>\n",
              "      <td>1,823,207</td>\n",
              "      <td>1.33</td>\n",
              "    </tr>\n",
              "  </tbody>\n",
              "</table>\n",
              "</div>"
            ],
            "text/plain": [
              "     state filed_week_ended  ... covered_employment insured_unemployment_rate\n",
              "0  Alabama           1/2/16  ...          1,816,714                      1.46\n",
              "1  Alabama           1/9/16  ...          1,823,207                      1.73\n",
              "2  Alabama          1/16/16  ...          1,823,207                      1.41\n",
              "3  Alabama          1/23/16  ...          1,823,207                      1.31\n",
              "4  Alabama          1/30/16  ...          1,823,207                      1.33\n",
              "\n",
              "[5 rows x 7 columns]"
            ]
          },
          "metadata": {
            "tags": []
          },
          "execution_count": 10
        }
      ]
    },
    {
      "cell_type": "code",
      "metadata": {
        "id": "qAPK-b1wf-Xx",
        "colab_type": "code",
        "outputId": "0ede7efe-93c8-4bfa-d1cc-d7131dd84a26",
        "colab": {
          "base_uri": "https://localhost:8080/",
          "height": 204
        }
      },
      "source": [
        "url = 'https://raw.githubusercontent.com/MIDS-at-Duke/unifying-data-science-final-project-pandemics-unemployment/master/data/effective_dates.csv'\n",
        "order_date = pd.read_csv(url)\n",
        "order_date.head()"
      ],
      "execution_count": 0,
      "outputs": [
        {
          "output_type": "execute_result",
          "data": {
            "text/html": [
              "<div>\n",
              "<style scoped>\n",
              "    .dataframe tbody tr th:only-of-type {\n",
              "        vertical-align: middle;\n",
              "    }\n",
              "\n",
              "    .dataframe tbody tr th {\n",
              "        vertical-align: top;\n",
              "    }\n",
              "\n",
              "    .dataframe thead th {\n",
              "        text-align: right;\n",
              "    }\n",
              "</style>\n",
              "<table border=\"1\" class=\"dataframe\">\n",
              "  <thead>\n",
              "    <tr style=\"text-align: right;\">\n",
              "      <th></th>\n",
              "      <th>state</th>\n",
              "      <th>effective_date</th>\n",
              "      <th>order_in_place</th>\n",
              "    </tr>\n",
              "  </thead>\n",
              "  <tbody>\n",
              "    <tr>\n",
              "      <th>0</th>\n",
              "      <td>Alabama</td>\n",
              "      <td>2020-04-04</td>\n",
              "      <td>1</td>\n",
              "    </tr>\n",
              "    <tr>\n",
              "      <th>1</th>\n",
              "      <td>Alaska</td>\n",
              "      <td>2020-03-28</td>\n",
              "      <td>1</td>\n",
              "    </tr>\n",
              "    <tr>\n",
              "      <th>2</th>\n",
              "      <td>Arizona</td>\n",
              "      <td>2020-03-31</td>\n",
              "      <td>1</td>\n",
              "    </tr>\n",
              "    <tr>\n",
              "      <th>3</th>\n",
              "      <td>Arkansas</td>\n",
              "      <td>NaN</td>\n",
              "      <td>0</td>\n",
              "    </tr>\n",
              "    <tr>\n",
              "      <th>4</th>\n",
              "      <td>California</td>\n",
              "      <td>2020-03-19</td>\n",
              "      <td>1</td>\n",
              "    </tr>\n",
              "  </tbody>\n",
              "</table>\n",
              "</div>"
            ],
            "text/plain": [
              "        state effective_date  order_in_place\n",
              "0     Alabama     2020-04-04               1\n",
              "1      Alaska     2020-03-28               1\n",
              "2     Arizona     2020-03-31               1\n",
              "3    Arkansas            NaN               0\n",
              "4  California     2020-03-19               1"
            ]
          },
          "metadata": {
            "tags": []
          },
          "execution_count": 8
        }
      ]
    },
    {
      "cell_type": "code",
      "metadata": {
        "id": "WGHNbZPyghCW",
        "colab_type": "code",
        "outputId": "b5c4fb5b-680d-4a14-f716-3293e13c7ea5",
        "colab": {
          "base_uri": "https://localhost:8080/",
          "height": 905
        }
      },
      "source": [
        "# Jose's steps\n",
        "import pandas as pd\n",
        "import numpy as np\n",
        "import matplotlib.pyplot as plt #plot images\n",
        "import datetime #convert str to datetime\n",
        "\n",
        "\n",
        "#Download data from git repository\n",
        "unemployment_rates_url = 'https://raw.githubusercontent.com/MIDS-at-Duke/unifying-data-science-final-project-pandemics-unemployment/master/data/unemployment_2016_2020.csv'\n",
        "unemployment_rates_data = pd.read_csv(unemployment_rates_url, thousands = ',')\n",
        "\n",
        "state_demographics_url = 'https://raw.githubusercontent.com/MIDS-at-Duke/unifying-data-science-final-project-pandemics-unemployment/master/data/states_demographics.csv'\n",
        "state_demographic_data = pd.read_csv(state_demographics_url)\n",
        "\n",
        "#Ana already merged this data in the demographics dataset\n",
        "#state_home_file = 'C:/Duke University/2nd Term/Practical DS 690-2/Final Project/stayhomeorders_sources.xlsx'\n",
        "#state_home_data = pd.read_excel(state_home_file, index_col=None, usecols = ['State', 'Order Date'])\n",
        "\n",
        "#Check the data types and look for empty values NA's\n",
        "unemployment_rates_data.info()\n",
        "\n",
        "#Locate empty values in the last two rows of the dataset.\n",
        "unemployment_rates_data.tail()\n",
        "state_demographic_data.head()\n",
        "\n",
        "#Drop the last 2 rows with NA values.\n",
        "unemployment_rates_data = unemployment_rates_data[:-2] \n",
        "unemployment_rates_data.tail()\n",
        "\n",
        "#Convert Filed week ended and Reflecting Week Ended into date time format.\n",
        "unemployment_rates_data['Filed week ended'] = pd.to_datetime(unemployment_rates_data['Filed week ended'])\n",
        "unemployment_rates_data['Reflecting Week Ended'] = pd.to_datetime(unemployment_rates_data['Reflecting Week Ended'])\n",
        "unemployment_rates_data.head()\n",
        "\n",
        "#Convert effective_date into date time format.\n",
        "state_demographic_data['effective_date'] = pd.to_datetime(state_demographic_data['effective_date'])\n",
        "\n",
        "#Plot by State and set the metric to plot [Initial Claims|Continued Claims|Insured Unemployment Rate]\n",
        "state = 'Texas' #input()\n",
        "metric = 'Initial Claims' #input()\n",
        "unemployment_by_state = unemployment_rates_data[unemployment_rates_data.State == state]\n",
        "unemployment_by_state.plot(kind = 'line', x = 'Filed week ended', y = metric)\n",
        "\n",
        "#Set the state and metric to plot\n",
        "state = 'Texas' #input()\n",
        "metric = 'Initial Claims' #input()\n",
        "\n",
        "locator = mdates.AutoDateLocator(minticks=12)\n",
        "formatter = mdates.ConciseDateFormatter(locator)\n",
        "\n",
        "# Subset the last 8 weeks, since February first and plot a vertical line at the date the stay_home_orders were \n",
        "# effective. Metrics [Initial Claims|Continued Claims|Insured Unemployment Rate]\n",
        "unemployment_rates_subset = unemployment_rates_data[unemployment_rates_data['Filed week ended'] > '2020-02-01']\n",
        "unemployment_by_state = unemployment_rates_subset[unemployment_rates_subset.State == state]\n",
        "\n",
        "date = unemployment_by_state['Filed week ended']\n",
        "fig, ax = plt.subplots()\n",
        "ax.plot(date, unemployment_by_state[metric])\n",
        "\n",
        "#Include a vertical line for the date the state home orders were put in place.\n",
        "date1 = state_demographic_data['effective_date'][state_demographic_data.State == state].item()\n",
        "print(date1)\n",
        "ax.axvline(date1, color = 'r')\n",
        "\n",
        "# rotate and align the tick labels so they look better\n",
        "fig.autofmt_xdate()\n",
        "plt.ylabel(metric)\n",
        "ax.xaxis.set_major_locator(locator)\n",
        "ax.xaxis.set_major_formatter(formatter)\n",
        "plt.show()"
      ],
      "execution_count": 0,
      "outputs": [
        {
          "output_type": "stream",
          "text": [
            "<class 'pandas.core.frame.DataFrame'>\n",
            "RangeIndex: 11821 entries, 0 to 11820\n",
            "Data columns (total 7 columns):\n",
            " #   Column                     Non-Null Count  Dtype  \n",
            "---  ------                     --------------  -----  \n",
            " 0   State                      11820 non-null  object \n",
            " 1   Filed week ended           11819 non-null  object \n",
            " 2   Initial Claims             11819 non-null  float64\n",
            " 3   Reflecting Week Ended      11819 non-null  object \n",
            " 4   Continued Claims           11819 non-null  float64\n",
            " 5   Covered Employment         11819 non-null  float64\n",
            " 6   Insured Unemployment Rate  11819 non-null  float64\n",
            "dtypes: float64(4), object(3)\n",
            "memory usage: 646.6+ KB\n",
            "New York\n",
            "Initial Claims\n",
            "New York\n",
            "Initial Claims\n",
            "2020-03-22 00:00:00\n"
          ],
          "name": "stdout"
        },
        {
          "output_type": "display_data",
          "data": {
            "image/png": "[encoded data removed]",
            "text/plain": [
              "<Figure size 432x288 with 1 Axes>"
            ]
          },
          "metadata": {
            "tags": [],
            "needs_background": "light"
          }
        },
        {
          "output_type": "display_data",
          "data": {
            "image/png": "[encoded data removed]",
            "text/plain": [
              "<Figure size 432x288 with 1 Axes>"
            ]
          },
          "metadata": {
            "tags": [],
            "needs_background": "light"
          }
        }
      ]
    }
  ]
}